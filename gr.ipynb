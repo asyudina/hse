{
 "cells": [
  {
   "cell_type": "code",
   "execution_count": 1,
   "metadata": {
    "collapsed": true
   },
   "outputs": [],
   "source": [
    "import vk\n",
    "from time import sleep\n",
    "vk.logger.setLevel('INFO')"
   ]
  },
  {
   "cell_type": "code",
   "execution_count": 2,
   "metadata": {
    "collapsed": true
   },
   "outputs": [],
   "source": [
    "login = '' #логин\n",
    "password = '' #паролька\n",
    "vk_id = ''  #это айдишник приложения"
   ]
  },
  {
   "cell_type": "code",
   "execution_count": 3,
   "metadata": {},
   "outputs": [
    {
     "name": "stdout",
     "output_type": "stream",
     "text": [
      "2017-11-20 14:16:57,029 vk    mixins:107 ERROR: Authorization error (incorrect password)\n"
     ]
    },
    {
     "ename": "VkAuthError",
     "evalue": "Authorization error (incorrect password)",
     "output_type": "error",
     "traceback": [
      "\u001b[1;31m---------------------------------------------------------------------------\u001b[0m",
      "\u001b[1;31mVkAuthError\u001b[0m                               Traceback (most recent call last)",
      "\u001b[1;32m<ipython-input-3-5c7eb311fb51>\u001b[0m in \u001b[0;36m<module>\u001b[1;34m()\u001b[0m\n\u001b[1;32m----> 1\u001b[1;33m \u001b[0msession\u001b[0m \u001b[1;33m=\u001b[0m \u001b[0mvk\u001b[0m\u001b[1;33m.\u001b[0m\u001b[0mAuthSession\u001b[0m\u001b[1;33m(\u001b[0m\u001b[0mapp_id\u001b[0m\u001b[1;33m=\u001b[0m\u001b[0mvk_id\u001b[0m\u001b[1;33m,\u001b[0m \u001b[0muser_login\u001b[0m\u001b[1;33m=\u001b[0m\u001b[0mlogin\u001b[0m\u001b[1;33m,\u001b[0m \u001b[0muser_password\u001b[0m\u001b[1;33m=\u001b[0m\u001b[0mpassword\u001b[0m\u001b[1;33m,\u001b[0m \u001b[0mscope\u001b[0m\u001b[1;33m=\u001b[0m\u001b[1;34m'wall, messages'\u001b[0m\u001b[1;33m)\u001b[0m\u001b[1;33m\u001b[0m\u001b[0m\n\u001b[0m\u001b[0;32m      2\u001b[0m \u001b[0mvkapi\u001b[0m \u001b[1;33m=\u001b[0m \u001b[0mvk\u001b[0m\u001b[1;33m.\u001b[0m\u001b[0mAPI\u001b[0m\u001b[1;33m(\u001b[0m\u001b[0msession\u001b[0m\u001b[1;33m)\u001b[0m\u001b[1;33m\u001b[0m\u001b[0m\n\u001b[0;32m      3\u001b[0m \u001b[0mmessages\u001b[0m \u001b[1;33m=\u001b[0m \u001b[0mvkapi\u001b[0m\u001b[1;33m.\u001b[0m\u001b[0mmessages\u001b[0m\u001b[1;33m.\u001b[0m\u001b[0mget\u001b[0m\u001b[1;33m(\u001b[0m\u001b[0mcount\u001b[0m\u001b[1;33m=\u001b[0m\u001b[1;36m1\u001b[0m\u001b[1;33m)\u001b[0m\u001b[1;33m\u001b[0m\u001b[0m\n",
      "\u001b[1;32m~\\AppData\\Local\\Continuum\\Anaconda3\\lib\\site-packages\\vk\\mixins.py\u001b[0m in \u001b[0;36m__init__\u001b[1;34m(self, app_id, user_login, user_password, scope, **kwargs)\u001b[0m\n\u001b[0;32m     30\u001b[0m         \u001b[1;31m# If we define user login, we need get access token now.\u001b[0m\u001b[1;33m\u001b[0m\u001b[1;33m\u001b[0m\u001b[0m\n\u001b[0;32m     31\u001b[0m         \u001b[1;32mif\u001b[0m \u001b[0mself\u001b[0m\u001b[1;33m.\u001b[0m\u001b[0muser_login\u001b[0m\u001b[1;33m:\u001b[0m\u001b[1;33m\u001b[0m\u001b[0m\n\u001b[1;32m---> 32\u001b[1;33m             \u001b[0mself\u001b[0m\u001b[1;33m.\u001b[0m\u001b[0maccess_token\u001b[0m \u001b[1;33m=\u001b[0m \u001b[0mself\u001b[0m\u001b[1;33m.\u001b[0m\u001b[0mget_access_token\u001b[0m\u001b[1;33m(\u001b[0m\u001b[1;33m)\u001b[0m\u001b[1;33m\u001b[0m\u001b[0m\n\u001b[0m\u001b[0;32m     33\u001b[0m \u001b[1;33m\u001b[0m\u001b[0m\n\u001b[0;32m     34\u001b[0m     \u001b[1;33m@\u001b[0m\u001b[0mproperty\u001b[0m\u001b[1;33m\u001b[0m\u001b[0m\n",
      "\u001b[1;32m~\\AppData\\Local\\Continuum\\Anaconda3\\lib\\site-packages\\vk\\mixins.py\u001b[0m in \u001b[0;36mget_access_token\u001b[1;34m(self)\u001b[0m\n\u001b[0;32m     67\u001b[0m         \u001b[1;32mwith\u001b[0m \u001b[0mauth_session\u001b[0m \u001b[1;32mas\u001b[0m \u001b[0mself\u001b[0m\u001b[1;33m.\u001b[0m\u001b[0mauth_session\u001b[0m\u001b[1;33m:\u001b[0m\u001b[1;33m\u001b[0m\u001b[0m\n\u001b[0;32m     68\u001b[0m             \u001b[0mself\u001b[0m\u001b[1;33m.\u001b[0m\u001b[0mauth_session\u001b[0m \u001b[1;33m=\u001b[0m \u001b[0mauth_session\u001b[0m\u001b[1;33m\u001b[0m\u001b[0m\n\u001b[1;32m---> 69\u001b[1;33m             \u001b[0mself\u001b[0m\u001b[1;33m.\u001b[0m\u001b[0mlogin\u001b[0m\u001b[1;33m(\u001b[0m\u001b[1;33m)\u001b[0m\u001b[1;33m\u001b[0m\u001b[0m\n\u001b[0m\u001b[0;32m     70\u001b[0m             \u001b[0mauth_response_url_query\u001b[0m \u001b[1;33m=\u001b[0m \u001b[0mself\u001b[0m\u001b[1;33m.\u001b[0m\u001b[0moauth2_authorization\u001b[0m\u001b[1;33m(\u001b[0m\u001b[1;33m)\u001b[0m\u001b[1;33m\u001b[0m\u001b[0m\n\u001b[0;32m     71\u001b[0m \u001b[1;33m\u001b[0m\u001b[0m\n",
      "\u001b[1;32m~\\AppData\\Local\\Continuum\\Anaconda3\\lib\\site-packages\\vk\\mixins.py\u001b[0m in \u001b[0;36mlogin\u001b[1;34m(self)\u001b[0m\n\u001b[0;32m    106\u001b[0m             \u001b[0mmessage\u001b[0m \u001b[1;33m=\u001b[0m \u001b[1;34m'Authorization error (incorrect password)'\u001b[0m\u001b[1;33m\u001b[0m\u001b[0m\n\u001b[0;32m    107\u001b[0m             \u001b[0mlogger\u001b[0m\u001b[1;33m.\u001b[0m\u001b[0merror\u001b[0m\u001b[1;33m(\u001b[0m\u001b[0mmessage\u001b[0m\u001b[1;33m)\u001b[0m\u001b[1;33m\u001b[0m\u001b[0m\n\u001b[1;32m--> 108\u001b[1;33m             \u001b[1;32mraise\u001b[0m \u001b[0mVkAuthError\u001b[0m\u001b[1;33m(\u001b[0m\u001b[0mmessage\u001b[0m\u001b[1;33m)\u001b[0m\u001b[1;33m\u001b[0m\u001b[0m\n\u001b[0m\u001b[0;32m    109\u001b[0m \u001b[1;33m\u001b[0m\u001b[0m\n\u001b[0;32m    110\u001b[0m     \u001b[1;32mdef\u001b[0m \u001b[0moauth2_authorization\u001b[0m\u001b[1;33m(\u001b[0m\u001b[0mself\u001b[0m\u001b[1;33m)\u001b[0m\u001b[1;33m:\u001b[0m\u001b[1;33m\u001b[0m\u001b[0m\n",
      "\u001b[1;31mVkAuthError\u001b[0m: Authorization error (incorrect password)"
     ]
    }
   ],
   "source": [
    "session = vk.AuthSession(app_id=vk_id, user_login=login, user_password=password, scope='wall, messages') \n",
    "vkapi = vk.API(session)\n",
    "messages = vkapi.messages.get(count=1)"
   ]
  },
  {
   "cell_type": "code",
   "execution_count": 27,
   "metadata": {
    "collapsed": true
   },
   "outputs": [],
   "source": [
    "friends_id_list = vkapi.friends.get(user_id = '2733642', fields = [ 'first_name','last_name' ],lang = 'en' )"
   ]
  },
  {
   "cell_type": "code",
   "execution_count": 28,
   "metadata": {},
   "outputs": [
    {
     "data": {
      "text/plain": [
       "119"
      ]
     },
     "execution_count": 28,
     "metadata": {},
     "output_type": "execute_result"
    }
   ],
   "source": [
    "len(friends_id_list)"
   ]
  },
  {
   "cell_type": "code",
   "execution_count": 29,
   "metadata": {},
   "outputs": [
    {
     "name": "stdout",
     "output_type": "stream",
     "text": [
      "[{'uid': 798457, 'first_name': 'Alexey', 'last_name': 'Sokolov', 'online': 0, 'user_id': 798457}, {'uid': 1028119, 'first_name': 'Yulya', 'last_name': 'Ibragimova', 'online': 0, 'user_id': 1028119}, {'uid': 1232313, 'first_name': 'Nikita', 'last_name': 'Karpychev', 'online': 0, 'user_id': 1232313}, {'uid': 1312830, 'first_name': 'Marina', 'last_name': 'Konyukhova', 'online': 0, 'user_id': 1312830}, {'uid': 1527315, 'first_name': 'Nastya', 'last_name': 'Bulatova', 'online': 0, 'user_id': 1527315}, {'uid': 2122241, 'first_name': 'Elena', 'last_name': 'Karpenko', 'online': 0, 'user_id': 2122241}, {'uid': 2460014, 'first_name': 'Veronika', 'last_name': 'Bliznets', 'online': 0, 'user_id': 2460014}, {'uid': 2674990, 'first_name': 'Maria', 'last_name': 'Solovyova', 'online': 0, 'user_id': 2674990}, {'uid': 2954973, 'first_name': 'Yulia', 'last_name': 'Rap', 'online': 0, 'user_id': 2954973}, {'uid': 3381700, 'first_name': 'Anastasia', 'last_name': 'Larionova', 'online': 0, 'user_id': 3381700}, {'uid': 3719205, 'first_name': 'Viktoria', 'last_name': 'Alexandrova', 'online': 0, 'user_id': 3719205}, {'uid': 3725353, 'first_name': 'Lidia', 'last_name': 'Geyman', 'online': 0, 'user_id': 3725353}, {'uid': 4129622, 'first_name': 'Kirill', 'last_name': 'Vasin', 'online': 0, 'user_id': 4129622}, {'uid': 4788574, 'first_name': 'Yana', 'last_name': 'Yaroslavtseva', 'online': 0, 'user_id': 4788574}, {'uid': 5022809, 'first_name': 'Darya', 'last_name': 'Senchugova', 'online': 0, 'user_id': 5022809}, {'uid': 5268381, 'first_name': 'Olga', 'last_name': 'Dymova', 'online': 0, 'user_id': 5268381}, {'uid': 5364751, 'first_name': 'Svyatoslav', 'last_name': 'Derzhavin', 'online': 0, 'user_id': 5364751}, {'uid': 5490870, 'first_name': 'Pavel', 'last_name': 'Severin', 'online': 1, 'user_id': 5490870}, {'uid': 5738952, 'first_name': 'Anastasia', 'last_name': 'Osipova', 'online': 0, 'user_id': 5738952}, {'uid': 6379321, 'first_name': 'Alyona', 'last_name': 'Akhmerova', 'online': 0, 'user_id': 6379321}, {'uid': 6395751, 'first_name': 'Marina', 'last_name': 'Ananyeva', 'online': 1, 'user_id': 6395751}, {'uid': 6586322, 'first_name': 'Anastasia', 'last_name': 'Tsukanova', 'online': 0, 'user_id': 6586322}, {'uid': 6647579, 'first_name': 'Mikhail', 'last_name': 'Teterin', 'online': 0, 'user_id': 6647579}, {'uid': 7112981, 'first_name': 'Nikolay', 'last_name': 'Oborkin', 'online': 1, 'user_id': 7112981}, {'uid': 7395701, 'first_name': 'Andrey', 'last_name': 'Prudnikov', 'online': 0, 'user_id': 7395701}, {'uid': 7561412, 'first_name': 'Olya', 'last_name': 'Yuzhakova', 'online': 0, 'user_id': 7561412}, {'uid': 7620910, 'first_name': 'Sergey', 'last_name': 'Beshenov', 'online': 0, 'user_id': 7620910}, {'uid': 7963551, 'first_name': 'Maria', 'last_name': 'Nesterova', 'online': 0, 'user_id': 7963551}, {'uid': 7996909, 'first_name': 'Dasha', 'last_name': 'Kuzminova', 'online': 0, 'user_id': 7996909}, {'uid': 8026231, 'first_name': 'Anya', 'last_name': 'Gilevich', 'online': 1, 'user_id': 8026231}, {'uid': 8158268, 'first_name': 'Anton', 'last_name': 'Petrovtsev', 'online': 1, 'user_id': 8158268}, {'uid': 8769738, 'first_name': 'Anastasia', 'last_name': 'Lysenko', 'online': 0, 'user_id': 8769738}, {'uid': 8805755, 'first_name': 'Margarita', 'last_name': 'Ryskova', 'online': 0, 'user_id': 8805755}, {'uid': 8904363, 'first_name': 'Anya', 'last_name': 'Revenkova', 'online': 0, 'user_id': 8904363}, {'uid': 9454420, 'first_name': 'Elena', 'last_name': 'Andreeva', 'online': 0, 'user_id': 9454420}, {'uid': 10397558, 'first_name': 'Anya', 'last_name': 'Frantskevich', 'online': 0, 'user_id': 10397558}, {'uid': 10478504, 'first_name': 'Dima', 'last_name': 'Ivanov', 'online': 0, 'user_id': 10478504}, {'uid': 10731889, 'first_name': 'Genrikh', 'last_name': 'Mirzoyan', 'online': 0, 'user_id': 10731889}, {'uid': 11829317, 'first_name': 'Yana', 'last_name': 'Goncharuk', 'online': 0, 'user_id': 11829317}, {'uid': 12053415, 'first_name': 'Ksenia', 'last_name': 'Solnechnaya', 'online': 0, 'user_id': 12053415}, {'uid': 12634160, 'first_name': 'Margarita', 'last_name': 'Skvortsova', 'online': 0, 'user_id': 12634160}, {'uid': 13725312, 'first_name': 'Anna', 'last_name': 'Skvortsova', 'online': 1, 'user_id': 13725312}, {'uid': 14012480, 'first_name': 'Alina', 'last_name': 'Malovechkina', 'online': 0, 'user_id': 14012480}, {'uid': 14199643, 'first_name': 'Ekaterina', 'last_name': 'Voskovskaya', 'online': 0, 'user_id': 14199643}, {'uid': 14206089, 'first_name': 'Olga', 'last_name': 'Vinogradova', 'online': 0, 'user_id': 14206089}, {'uid': 14529432, 'first_name': 'Anastasia', 'last_name': 'Kholodova', 'online': 0, 'user_id': 14529432}, {'uid': 15163209, 'first_name': 'Rodion', 'last_name': 'Laptsuev', 'online': 0, 'user_id': 15163209}, {'uid': 15570280, 'first_name': 'Alexandra', 'last_name': 'Zernova', 'online': 0, 'user_id': 15570280}, {'uid': 16599580, 'first_name': 'Lena', 'last_name': 'Shmargunova', 'online': 0, 'user_id': 16599580}, {'uid': 16773540, 'first_name': 'Olesya', 'last_name': 'Loboda', 'online': 0, 'user_id': 16773540}, {'uid': 16892147, 'first_name': 'Natalia', 'last_name': 'Kotenko', 'online': 0, 'user_id': 16892147}, {'uid': 17009633, 'first_name': 'Kuzma', 'last_name': 'Pastushenko', 'online': 0, 'user_id': 17009633}, {'uid': 17085863, 'first_name': 'Kristina', 'last_name': 'Kiprskaya', 'online': 0, 'user_id': 17085863}, {'uid': 17860535, 'first_name': 'Sofya', 'last_name': 'Timofeeva', 'online': 1, 'user_id': 17860535}, {'uid': 18014696, 'first_name': 'Bekzod', 'last_name': 'Rakhimov', 'online': 0, 'user_id': 18014696}, {'uid': 18291923, 'first_name': 'Olya', 'last_name': 'Lomakina', 'online': 0, 'user_id': 18291923}, {'uid': 18716821, 'first_name': 'Lada', 'last_name': 'Kroenen', 'online': 1, 'user_id': 18716821}, {'uid': 19027949, 'first_name': 'Alyona', 'last_name': 'Shikina', 'online': 0, 'user_id': 19027949}, {'uid': 19088975, 'first_name': 'Ivan', 'last_name': 'Aganin', 'online': 0, 'user_id': 19088975}, {'uid': 19109443, 'first_name': 'Evil', 'last_name': 'Spirit', 'online': 0, 'user_id': 19109443}, {'uid': 19848570, 'first_name': 'Ksenia', 'last_name': 'Balabaeva', 'online': 0, 'user_id': 19848570}, {'uid': 20198004, 'first_name': 'Iskander', 'last_name': 'Safiulin', 'online': 1, 'user_id': 20198004}, {'uid': 22083603, 'first_name': 'Nadezhda', 'last_name': 'Zhuravskaya', 'online': 1, 'user_id': 22083603}, {'uid': 23800606, 'first_name': 'Alina', 'last_name': 'Matveeva', 'online': 1, 'user_id': 23800606}, {'uid': 24955561, 'first_name': 'Sasha', 'last_name': 'Gan', 'online': 0, 'user_id': 24955561}, {'uid': 26653657, 'first_name': 'Ekaterina', 'last_name': 'Voropaeva', 'online': 0, 'user_id': 26653657}, {'uid': 27895472, 'first_name': 'Pavel', 'last_name': 'Girin', 'online': 0, 'user_id': 27895472}, {'uid': 30406485, 'first_name': 'Ivan', 'last_name': 'Suchilin', 'online': 0, 'user_id': 30406485}, {'uid': 33881334, 'first_name': 'Yulia', 'last_name': 'Gudkova', 'online': 0, 'user_id': 33881334}, {'uid': 34590251, 'first_name': 'Valeriya', 'last_name': 'Krasilnikova', 'online': 0, 'user_id': 34590251}, {'uid': 34822941, 'first_name': 'Yana', 'last_name': 'Savelyeva', 'online': 0, 'user_id': 34822941}, {'uid': 39121197, 'first_name': 'Dasha', 'last_name': 'Serdyuk', 'online': 0, 'user_id': 39121197}, {'uid': 41801389, 'first_name': 'Valentina', 'last_name': 'Kadykova', 'online': 0, 'user_id': 41801389}, {'uid': 44514089, 'first_name': 'Alyona', 'last_name': 'Utkina', 'online': 1, 'user_id': 44514089}, {'uid': 45127939, 'first_name': 'Andrey', 'last_name': 'Sadchikov', 'online': 0, 'user_id': 45127939}, {'uid': 47241669, 'first_name': 'Anastasia', 'last_name': 'Kalchenko', 'online': 0, 'user_id': 47241669}, {'uid': 47438028, 'first_name': 'Alyona', 'last_name': 'Sergeeva', 'online': 0, 'user_id': 47438028}, {'uid': 49017950, 'first_name': 'Igor', 'last_name': 'Vasilyev', 'online': 1, 'user_id': 49017950}, {'uid': 50759753, 'first_name': 'Taisia', 'last_name': 'Dolganovskaya', 'online': 0, 'user_id': 50759753}, {'uid': 52457617, 'first_name': 'Roman', 'last_name': 'Skulov', 'online': 1, 'user_id': 52457617}, {'uid': 53333465, 'first_name': 'Eka', 'last_name': 'Sharvadze', 'online': 0, 'user_id': 53333465}, {'uid': 54339024, 'first_name': 'Sergey', 'last_name': 'Kucherenko', 'online': 0, 'user_id': 54339024}, {'uid': 55351458, 'first_name': 'Alexander', 'last_name': 'Kalugin', 'online': 0, 'user_id': 55351458}, {'uid': 58648941, 'first_name': 'Valeria', 'last_name': 'Zolotovskaya', 'online': 1, 'user_id': 58648941}, {'uid': 61240260, 'first_name': 'Angelina', 'last_name': 'Astanina', 'online': 0, 'user_id': 61240260}, {'uid': 64206297, 'first_name': 'Lola', 'last_name': 'Sultanbekova', 'online': 0, 'user_id': 64206297}, {'uid': 84644361, 'first_name': 'Sofya', 'last_name': 'Grigoruk', 'online': 1, 'user_id': 84644361}, {'uid': 91854583, 'first_name': 'Alexander', 'last_name': 'Zyuzin', 'online': 0, 'user_id': 91854583}, {'uid': 96096268, 'first_name': 'Ruslan', 'last_name': 'Khalitov', 'online': 0, 'user_id': 96096268}, {'uid': 97665580, 'first_name': 'Anastasia', 'last_name': 'Lipchanskaya', 'online': 1, 'user_id': 97665580}, {'uid': 98058306, 'first_name': 'Adelina', 'last_name': 'Nigmatullina', 'online': 0, 'user_id': 98058306}, {'uid': 116871282, 'first_name': 'Yury', 'last_name': 'Palatov', 'online': 0, 'user_id': 116871282}, {'uid': 117578930, 'first_name': 'Olga', 'last_name': 'Letnikova', 'online': 0, 'user_id': 117578930}, {'uid': 136336459, 'first_name': 'Adisa', 'last_name': 'Kuasheva', 'online': 1, 'user_id': 136336459}, {'uid': 138207384, 'first_name': 'Andrey', 'last_name': 'Shelopugin', 'online': 0, 'user_id': 138207384}, {'uid': 145070545, 'first_name': 'Boris', 'last_name': 'Maystrenko', 'online': 1, 'user_id': 145070545}, {'uid': 149228099, 'first_name': 'Anastasia', 'last_name': 'Osipova', 'online': 0, 'user_id': 149228099}, {'uid': 151556210, 'first_name': 'Natalya', 'last_name': 'Zhuravleva', 'online': 1, 'user_id': 151556210}, {'uid': 151700631, 'first_name': 'Sotiria', 'last_name': 'Pavlidi', 'online': 0, 'user_id': 151700631}, {'uid': 186332134, 'first_name': 'Rustam', 'last_name': 'Faskhutdinov', 'online': 0, 'user_id': 186332134}, {'uid': 186871456, 'first_name': 'Oleg', 'last_name': 'Bilyk', 'online': 0, 'user_id': 186871456}, {'uid': 192652399, 'first_name': 'Sergey', 'last_name': 'Yudin', 'online': 0, 'user_id': 192652399}, {'uid': 196656952, 'first_name': 'Yulia', 'last_name': 'Tsenina', 'online': 0, 'user_id': 196656952}, {'uid': 206142960, 'first_name': 'Eskarhan', 'last_name': 'Dzhantamirov', 'online': 1, 'user_id': 206142960}, {'uid': 209312296, 'first_name': 'Denis', 'last_name': 'Roginsky', 'online': 1, 'user_id': 209312296}, {'uid': 214675402, 'first_name': 'Vlada', 'last_name': 'Anisovets', 'online': 0, 'user_id': 214675402}, {'uid': 214675404, 'first_name': 'Vitalina', 'last_name': 'Anisovets', 'online': 0, 'user_id': 214675404}, {'uid': 219507394, 'first_name': 'Sam', 'last_name': 'Sheffres', 'online': 0, 'user_id': 219507394}, {'uid': 227637668, 'first_name': 'Dmitry', 'last_name': 'Romanov', 'online': 0, 'user_id': 227637668}, {'uid': 235759420, 'first_name': 'Sasha', 'last_name': 'Letnikova', 'online': 0, 'user_id': 235759420}, {'uid': 235877520, 'first_name': 'Sonya', 'last_name': 'Letnikova', 'online': 0, 'user_id': 235877520}, {'uid': 253457868, 'first_name': 'Karina', 'last_name': 'Karamysheva', 'online': 0, 'user_id': 253457868}, {'uid': 259554500, 'first_name': 'Liza', 'last_name': 'Polikarpova', 'online': 1, 'user_id': 259554500}, {'uid': 265796052, 'first_name': 'Boris', 'last_name': 'Blekhshteyn', 'online': 1, 'user_id': 265796052}, {'uid': 275899197, 'first_name': 'Irena', 'last_name': 'Romanovskaya', 'online': 0, 'user_id': 275899197}, {'uid': 281183808, 'first_name': 'Margarita', 'last_name': 'Lyubina', 'online': 0, 'user_id': 281183808}, {'uid': 379408421, 'first_name': 'Inna', 'last_name': 'Razumova', 'online': 0, 'user_id': 379408421}, {'uid': 383850255, 'first_name': 'Ilya', 'last_name': 'Chulkov', 'online': 0, 'user_id': 383850255}, {'uid': 425741753, 'first_name': 'Svetlana', 'last_name': 'Palatova', 'online': 0, 'user_id': 425741753}]\n"
     ]
    }
   ],
   "source": [
    "#печатаем друзей \n",
    "print(friends_id_list) "
   ]
  },
  {
   "cell_type": "code",
   "execution_count": 30,
   "metadata": {
    "collapsed": true
   },
   "outputs": [],
   "source": [
    "with open('friends_lena.txt', 'w') as outfile:\n",
    "    json.dump(friends_id_list, outfile)"
   ]
  },
  {
   "cell_type": "code",
   "execution_count": 38,
   "metadata": {
    "collapsed": true
   },
   "outputs": [],
   "source": [
    "friends = {}\n",
    "deleted = []\n",
    "for fr in friends_id_list:\n",
    "    sleep(1)\n",
    "    try:\n",
    "        friends[fr['user_id']] = vkapi.friends.get(user_id=fr['user_id'], fields = [ 'first_name','last_name'],lang = 'en' )\n",
    "    except Exception as e:\n",
    "        print(e)\n",
    "        deleted.append(fr['user_id'])\n",
    "        continue"
   ]
  },
  {
   "cell_type": "code",
   "execution_count": 39,
   "metadata": {},
   "outputs": [
    {
     "name": "stdout",
     "output_type": "stream",
     "text": [
      "[]\n"
     ]
    }
   ],
   "source": [
    "print(deleted)"
   ]
  },
  {
   "cell_type": "code",
   "execution_count": 40,
   "metadata": {
    "collapsed": true
   },
   "outputs": [],
   "source": [
    "for el in range(0,len(friends_id_list)-1):\n",
    "    for d in deleted:\n",
    "        if friends_id_list[el]['user_id'] == d:\n",
    "            del friends_id_list[el]"
   ]
  },
  {
   "cell_type": "code",
   "execution_count": 43,
   "metadata": {
    "collapsed": true
   },
   "outputs": [],
   "source": [
    "import json"
   ]
  },
  {
   "cell_type": "code",
   "execution_count": 44,
   "metadata": {
    "collapsed": true
   },
   "outputs": [],
   "source": [
    "with open('friends.txt', 'w') as outfile:\n",
    "    json.dump(friends, outfile)"
   ]
  },
  {
   "cell_type": "code",
   "execution_count": 45,
   "metadata": {
    "collapsed": true
   },
   "outputs": [],
   "source": [
    "import json\n",
    "import numpy as np\n",
    "import matplotlib.pyplot as plt\n",
    "%matplotlib inline \n",
    "import seaborn as sns\n",
    "import random"
   ]
  },
  {
   "cell_type": "code",
   "execution_count": 46,
   "metadata": {
    "collapsed": true
   },
   "outputs": [],
   "source": [
    "#тут надо поменять путь на свой \n",
    "with open('C:\\\\Users\\\\annayudina\\\\friends.txt', 'r') as outfile:\n",
    "    friends_dict = json.loads(outfile.read())"
   ]
  },
  {
   "cell_type": "code",
   "execution_count": 48,
   "metadata": {
    "collapsed": true
   },
   "outputs": [],
   "source": [
    "import networkx as nx\n",
    "G=nx.Graph()"
   ]
  },
  {
   "cell_type": "code",
   "execution_count": 49,
   "metadata": {
    "collapsed": true
   },
   "outputs": [],
   "source": [
    "friendsids = []\n",
    "\n",
    "for i in friends_dict.keys():\n",
    "    friendsids.append(i)\n",
    "\n",
    "    "
   ]
  },
  {
   "cell_type": "code",
   "execution_count": 50,
   "metadata": {
    "collapsed": true
   },
   "outputs": [],
   "source": [
    "# Connect friends with each other\n",
    "for fr in range(0,len(friendsids)-1):\n",
    "    i = str(friendsids[fr])\n",
    "    G.add_node(i)\n",
    "    for frnd in range(0,len(friends_dict[i])):\n",
    "        j = str(friends_dict[i][frnd]['uid'])\n",
    "        if i != j and j in friendsids :\n",
    "            G.add_edge(i, j)\n",
    "    G.node[i]['name'] = friends_id_list[fr]['first_name']\n",
    "    G.node[i]['lastname'] = friends_id_list[fr]['last_name']\n",
    "    G.node[i]['uid'] = friends_id_list[fr]['uid']"
   ]
  },
  {
   "cell_type": "code",
   "execution_count": 51,
   "metadata": {},
   "outputs": [
    {
     "name": "stdout",
     "output_type": "stream",
     "text": [
      "{'name': 'Alexey', 'lastname': 'Sokolov', 'uid': 798457}\n",
      "{'name': 'Yulya', 'lastname': 'Ibragimova', 'uid': 1028119}\n",
      "{'name': 'Nikita', 'lastname': 'Karpychev', 'uid': 1232313}\n",
      "{'name': 'Marina', 'lastname': 'Konyukhova', 'uid': 1312830}\n",
      "{'name': 'Nastya', 'lastname': 'Bulatova', 'uid': 1527315}\n",
      "{'name': 'Elena', 'lastname': 'Karpenko', 'uid': 2122241}\n",
      "{'name': 'Veronika', 'lastname': 'Bliznets', 'uid': 2460014}\n",
      "{'name': 'Maria', 'lastname': 'Solovyova', 'uid': 2674990}\n",
      "{'name': 'Yulia', 'lastname': 'Rap', 'uid': 2954973}\n",
      "{'name': 'Anastasia', 'lastname': 'Larionova', 'uid': 3381700}\n",
      "{'name': 'Viktoria', 'lastname': 'Alexandrova', 'uid': 3719205}\n",
      "{'name': 'Lidia', 'lastname': 'Geyman', 'uid': 3725353}\n",
      "{'name': 'Kirill', 'lastname': 'Vasin', 'uid': 4129622}\n",
      "{'name': 'Yana', 'lastname': 'Yaroslavtseva', 'uid': 4788574}\n",
      "{'name': 'Darya', 'lastname': 'Senchugova', 'uid': 5022809}\n",
      "{'name': 'Olga', 'lastname': 'Dymova', 'uid': 5268381}\n",
      "{'name': 'Svyatoslav', 'lastname': 'Derzhavin', 'uid': 5364751}\n",
      "{'name': 'Pavel', 'lastname': 'Severin', 'uid': 5490870}\n",
      "{'name': 'Anastasia', 'lastname': 'Osipova', 'uid': 5738952}\n",
      "{'name': 'Alyona', 'lastname': 'Akhmerova', 'uid': 6379321}\n",
      "{'name': 'Marina', 'lastname': 'Ananyeva', 'uid': 6395751}\n",
      "{'name': 'Anastasia', 'lastname': 'Tsukanova', 'uid': 6586322}\n",
      "{'name': 'Mikhail', 'lastname': 'Teterin', 'uid': 6647579}\n",
      "{'name': 'Nikolay', 'lastname': 'Oborkin', 'uid': 7112981}\n",
      "{'name': 'Andrey', 'lastname': 'Prudnikov', 'uid': 7395701}\n",
      "{'name': 'Olya', 'lastname': 'Yuzhakova', 'uid': 7561412}\n",
      "{'name': 'Sergey', 'lastname': 'Beshenov', 'uid': 7620910}\n",
      "{'name': 'Maria', 'lastname': 'Nesterova', 'uid': 7963551}\n",
      "{'name': 'Dasha', 'lastname': 'Kuzminova', 'uid': 7996909}\n",
      "{'name': 'Anya', 'lastname': 'Gilevich', 'uid': 8026231}\n",
      "{'name': 'Anton', 'lastname': 'Petrovtsev', 'uid': 8158268}\n",
      "{'name': 'Anastasia', 'lastname': 'Lysenko', 'uid': 8769738}\n",
      "{'name': 'Margarita', 'lastname': 'Ryskova', 'uid': 8805755}\n",
      "{'name': 'Anya', 'lastname': 'Revenkova', 'uid': 8904363}\n",
      "{'name': 'Elena', 'lastname': 'Andreeva', 'uid': 9454420}\n",
      "{'name': 'Anya', 'lastname': 'Frantskevich', 'uid': 10397558}\n",
      "{'name': 'Dima', 'lastname': 'Ivanov', 'uid': 10478504}\n",
      "{'name': 'Genrikh', 'lastname': 'Mirzoyan', 'uid': 10731889}\n",
      "{'name': 'Yana', 'lastname': 'Goncharuk', 'uid': 11829317}\n",
      "{'name': 'Ksenia', 'lastname': 'Solnechnaya', 'uid': 12053415}\n",
      "{'name': 'Margarita', 'lastname': 'Skvortsova', 'uid': 12634160}\n",
      "{'name': 'Anna', 'lastname': 'Skvortsova', 'uid': 13725312}\n",
      "{'name': 'Alina', 'lastname': 'Malovechkina', 'uid': 14012480}\n",
      "{'name': 'Ekaterina', 'lastname': 'Voskovskaya', 'uid': 14199643}\n",
      "{'name': 'Olga', 'lastname': 'Vinogradova', 'uid': 14206089}\n",
      "{'name': 'Anastasia', 'lastname': 'Kholodova', 'uid': 14529432}\n",
      "{'name': 'Rodion', 'lastname': 'Laptsuev', 'uid': 15163209}\n",
      "{'name': 'Alexandra', 'lastname': 'Zernova', 'uid': 15570280}\n",
      "{'name': 'Lena', 'lastname': 'Shmargunova', 'uid': 16599580}\n",
      "{'name': 'Olesya', 'lastname': 'Loboda', 'uid': 16773540}\n",
      "{'name': 'Natalia', 'lastname': 'Kotenko', 'uid': 16892147}\n",
      "{'name': 'Kuzma', 'lastname': 'Pastushenko', 'uid': 17009633}\n",
      "{'name': 'Kristina', 'lastname': 'Kiprskaya', 'uid': 17085863}\n",
      "{'name': 'Sofya', 'lastname': 'Timofeeva', 'uid': 17860535}\n",
      "{'name': 'Bekzod', 'lastname': 'Rakhimov', 'uid': 18014696}\n",
      "{'name': 'Olya', 'lastname': 'Lomakina', 'uid': 18291923}\n",
      "{'name': 'Lada', 'lastname': 'Kroenen', 'uid': 18716821}\n",
      "{'name': 'Alyona', 'lastname': 'Shikina', 'uid': 19027949}\n",
      "{'name': 'Ivan', 'lastname': 'Aganin', 'uid': 19088975}\n",
      "{'name': 'Evil', 'lastname': 'Spirit', 'uid': 19109443}\n",
      "{'name': 'Ksenia', 'lastname': 'Balabaeva', 'uid': 19848570}\n",
      "{'name': 'Iskander', 'lastname': 'Safiulin', 'uid': 20198004}\n",
      "{'name': 'Nadezhda', 'lastname': 'Zhuravskaya', 'uid': 22083603}\n",
      "{'name': 'Alina', 'lastname': 'Matveeva', 'uid': 23800606}\n",
      "{'name': 'Sasha', 'lastname': 'Gan', 'uid': 24955561}\n",
      "{'name': 'Ekaterina', 'lastname': 'Voropaeva', 'uid': 26653657}\n",
      "{'name': 'Pavel', 'lastname': 'Girin', 'uid': 27895472}\n",
      "{'name': 'Ivan', 'lastname': 'Suchilin', 'uid': 30406485}\n",
      "{'name': 'Yulia', 'lastname': 'Gudkova', 'uid': 33881334}\n",
      "{'name': 'Valeriya', 'lastname': 'Krasilnikova', 'uid': 34590251}\n",
      "{'name': 'Yana', 'lastname': 'Savelyeva', 'uid': 34822941}\n",
      "{'name': 'Dasha', 'lastname': 'Serdyuk', 'uid': 39121197}\n",
      "{'name': 'Valentina', 'lastname': 'Kadykova', 'uid': 41801389}\n",
      "{'name': 'Alyona', 'lastname': 'Utkina', 'uid': 44514089}\n",
      "{'name': 'Andrey', 'lastname': 'Sadchikov', 'uid': 45127939}\n",
      "{'name': 'Anastasia', 'lastname': 'Kalchenko', 'uid': 47241669}\n",
      "{'name': 'Alyona', 'lastname': 'Sergeeva', 'uid': 47438028}\n",
      "{'name': 'Igor', 'lastname': 'Vasilyev', 'uid': 49017950}\n",
      "{'name': 'Taisia', 'lastname': 'Dolganovskaya', 'uid': 50759753}\n",
      "{'name': 'Roman', 'lastname': 'Skulov', 'uid': 52457617}\n",
      "{'name': 'Eka', 'lastname': 'Sharvadze', 'uid': 53333465}\n",
      "{'name': 'Sergey', 'lastname': 'Kucherenko', 'uid': 54339024}\n",
      "{'name': 'Alexander', 'lastname': 'Kalugin', 'uid': 55351458}\n",
      "{'name': 'Valeria', 'lastname': 'Zolotovskaya', 'uid': 58648941}\n",
      "{'name': 'Angelina', 'lastname': 'Astanina', 'uid': 61240260}\n",
      "{'name': 'Lola', 'lastname': 'Sultanbekova', 'uid': 64206297}\n",
      "{'name': 'Sofya', 'lastname': 'Grigoruk', 'uid': 84644361}\n",
      "{'name': 'Alexander', 'lastname': 'Zyuzin', 'uid': 91854583}\n",
      "{'name': 'Ruslan', 'lastname': 'Khalitov', 'uid': 96096268}\n",
      "{'name': 'Anastasia', 'lastname': 'Lipchanskaya', 'uid': 97665580}\n",
      "{'name': 'Adelina', 'lastname': 'Nigmatullina', 'uid': 98058306}\n",
      "{'name': 'Yury', 'lastname': 'Palatov', 'uid': 116871282}\n",
      "{'name': 'Olga', 'lastname': 'Letnikova', 'uid': 117578930}\n",
      "{'name': 'Adisa', 'lastname': 'Kuasheva', 'uid': 136336459}\n",
      "{'name': 'Andrey', 'lastname': 'Shelopugin', 'uid': 138207384}\n",
      "{'name': 'Boris', 'lastname': 'Maystrenko', 'uid': 145070545}\n",
      "{'name': 'Anastasia', 'lastname': 'Osipova', 'uid': 149228099}\n",
      "{'name': 'Natalya', 'lastname': 'Zhuravleva', 'uid': 151556210}\n",
      "{'name': 'Sotiria', 'lastname': 'Pavlidi', 'uid': 151700631}\n",
      "{'name': 'Rustam', 'lastname': 'Faskhutdinov', 'uid': 186332134}\n",
      "{'name': 'Oleg', 'lastname': 'Bilyk', 'uid': 186871456}\n",
      "{'name': 'Sergey', 'lastname': 'Yudin', 'uid': 192652399}\n",
      "{'name': 'Yulia', 'lastname': 'Tsenina', 'uid': 196656952}\n",
      "{'name': 'Eskarhan', 'lastname': 'Dzhantamirov', 'uid': 206142960}\n",
      "{'name': 'Denis', 'lastname': 'Roginsky', 'uid': 209312296}\n",
      "{'name': 'Vlada', 'lastname': 'Anisovets', 'uid': 214675402}\n",
      "{'name': 'Vitalina', 'lastname': 'Anisovets', 'uid': 214675404}\n",
      "{'name': 'Sam', 'lastname': 'Sheffres', 'uid': 219507394}\n",
      "{'name': 'Dmitry', 'lastname': 'Romanov', 'uid': 227637668}\n",
      "{'name': 'Sasha', 'lastname': 'Letnikova', 'uid': 235759420}\n",
      "{'name': 'Sonya', 'lastname': 'Letnikova', 'uid': 235877520}\n",
      "{'name': 'Karina', 'lastname': 'Karamysheva', 'uid': 253457868}\n",
      "{'name': 'Liza', 'lastname': 'Polikarpova', 'uid': 259554500}\n",
      "{'name': 'Boris', 'lastname': 'Blekhshteyn', 'uid': 265796052}\n",
      "{'name': 'Irena', 'lastname': 'Romanovskaya', 'uid': 275899197}\n",
      "{'name': 'Margarita', 'lastname': 'Lyubina', 'uid': 281183808}\n",
      "{'name': 'Inna', 'lastname': 'Razumova', 'uid': 379408421}\n",
      "{'name': 'Ilya', 'lastname': 'Chulkov', 'uid': 383850255}\n"
     ]
    }
   ],
   "source": [
    "for i in range(0,len(friendsids)-1):\n",
    "    print(G.node[friendsids[i]])"
   ]
  },
  {
   "cell_type": "code",
   "execution_count": 53,
   "metadata": {
    "collapsed": true
   },
   "outputs": [],
   "source": [
    "nx.write_gml(G, \"social_network_anya.gml\")"
   ]
  },
  {
   "cell_type": "code",
   "execution_count": 56,
   "metadata": {},
   "outputs": [
    {
     "name": "stderr",
     "output_type": "stream",
     "text": [
      "C:\\Users\\annayudina\\AppData\\Local\\Continuum\\Anaconda3\\lib\\site-packages\\networkx\\drawing\\nx_pylab.py:126: MatplotlibDeprecationWarning: pyplot.hold is deprecated.\n",
      "    Future behavior will be consistent with the long-time default:\n",
      "    plot commands add elements without first clearing the\n",
      "    Axes and/or Figure.\n",
      "  b = plt.ishold()\n",
      "C:\\Users\\annayudina\\AppData\\Local\\Continuum\\Anaconda3\\lib\\site-packages\\networkx\\drawing\\nx_pylab.py:138: MatplotlibDeprecationWarning: pyplot.hold is deprecated.\n",
      "    Future behavior will be consistent with the long-time default:\n",
      "    plot commands add elements without first clearing the\n",
      "    Axes and/or Figure.\n",
      "  plt.hold(b)\n",
      "C:\\Users\\annayudina\\AppData\\Local\\Continuum\\Anaconda3\\lib\\site-packages\\matplotlib\\__init__.py:917: UserWarning: axes.hold is deprecated. Please remove it from your matplotlibrc and/or style files.\n",
      "  warnings.warn(self.msg_depr_set % key)\n",
      "C:\\Users\\annayudina\\AppData\\Local\\Continuum\\Anaconda3\\lib\\site-packages\\matplotlib\\rcsetup.py:152: UserWarning: axes.hold is deprecated, will be removed in 3.0\n",
      "  warnings.warn(\"axes.hold is deprecated, will be removed in 3.0\")\n"
     ]
    },
    {
     "data": {
      "image/png": "[encoded data removed]",
      "text/plain": [
       "<matplotlib.figure.Figure at 0x7cdbac8>"
      ]
     },
     "metadata": {},
     "output_type": "display_data"
    }
   ],
   "source": [
    "nx.draw(G)\n",
    "nx.draw(G,pos=nx.spectral_layout(G), nodecolor='r',edge_color='b')"
   ]
  },
  {
   "cell_type": "code",
   "execution_count": 59,
   "metadata": {},
   "outputs": [
    {
     "data": {
      "text/plain": [
       "119"
      ]
     },
     "execution_count": 59,
     "metadata": {},
     "output_type": "execute_result"
    }
   ],
   "source": [
    "#Количество узлов\n",
    "G.number_of_nodes()"
   ]
  },
  {
   "cell_type": "code",
   "execution_count": 60,
   "metadata": {},
   "outputs": [
    {
     "data": {
      "text/plain": [
       "953"
      ]
     },
     "execution_count": 60,
     "metadata": {},
     "output_type": "execute_result"
    }
   ],
   "source": [
    "#количество связей \n",
    "G.number_of_edges()"
   ]
  },
  {
   "cell_type": "code",
   "execution_count": null,
   "metadata": {
    "collapsed": true
   },
   "outputs": [],
   "source": []
  }
 ],
 "metadata": {
  "anaconda-cloud": {},
  "kernelspec": {
   "display_name": "Python 3",
   "language": "python",
   "name": "python3"
  },
  "language_info": {
   "codemirror_mode": {
    "name": "ipython",
    "version": 3
   },
   "file_extension": ".py",
   "mimetype": "text/x-python",
   "name": "python",
   "nbconvert_exporter": "python",
   "pygments_lexer": "ipython3",
   "version": "3.6.1"
  }
 },
 "nbformat": 4,
 "nbformat_minor": 1
}
